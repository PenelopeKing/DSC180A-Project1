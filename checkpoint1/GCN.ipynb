{
 "cells": [
  {
   "cell_type": "code",
   "execution_count": 1,
   "metadata": {},
   "outputs": [],
   "source": [
    "from gnn import GCNNode, GCNGraph\n",
    "import gnn\n",
    "import torch\n",
    "import helper_funcs\n",
    "from torch_geometric.datasets import TUDataset\n",
    "from torch_geometric.datasets import Planetoid\n",
    "import torch.nn.functional as F\n",
    "from torch_geometric.loader import DataLoader"
   ]
  },
  {
   "cell_type": "code",
   "execution_count": 2,
   "metadata": {},
   "outputs": [],
   "source": [
    "# import 3 datasets\n",
    "imdb_dataset = TUDataset(root='/tmp/IMDB-BINARY', name='IMDB-BINARY')\n",
    "cora_dataset = Planetoid(root='/tmp/Cora', name='Cora')\n",
    "enzyme_dataset = TUDataset(root='/tmp/ENZYMES', name='ENZYMES')"
   ]
  },
  {
   "cell_type": "code",
   "execution_count": 3,
   "metadata": {},
   "outputs": [],
   "source": [
    "# global variables\n",
    "EPOCHS = 200"
   ]
  },
  {
   "cell_type": "markdown",
   "metadata": {},
   "source": [
    "# Node classifcation: CORA"
   ]
  },
  {
   "cell_type": "code",
   "execution_count": 4,
   "metadata": {},
   "outputs": [
    {
     "name": "stdout",
     "output_type": "stream",
     "text": [
      "Accuracy: 0.8100\n"
     ]
    }
   ],
   "source": [
    "# init model and optimizer\n",
    "model = GCNNode(cora_dataset)\n",
    "optimizer = torch.optim.Adam(model.parameters(), lr=0.01, weight_decay=5e-4)\n",
    "\n",
    "# train model\n",
    "for epoch in range(EPOCHS):\n",
    "    model = gnn.GCNNode_train(model, cora_dataset, optimizer)\n",
    "\n",
    "# calculate accuracy\n",
    "model.eval()\n",
    "pred = model(cora_dataset).argmax(dim=1)\n",
    "correct = (pred[cora_dataset.test_mask] == cora_dataset.y[cora_dataset.test_mask]).sum()\n",
    "acc = int(correct) / int(cora_dataset.test_mask.sum())\n",
    "print(f'Accuracy: {acc:.4f}')"
   ]
  },
  {
   "cell_type": "markdown",
   "metadata": {},
   "source": [
    "# Graph classifcation: IMDB"
   ]
  },
  {
   "cell_type": "code",
   "execution_count": 5,
   "metadata": {},
   "outputs": [],
   "source": [
    "# set up dataset\n",
    "train_loader, test_loader = helper_funcs.preprocess_data(imdb_dataset, onehot=True, batch_size=64)"
   ]
  },
  {
   "cell_type": "code",
   "execution_count": 6,
   "metadata": {},
   "outputs": [
    {
     "name": "stdout",
     "output_type": "stream",
     "text": [
      "Test Acc: 0.8875\n"
     ]
    }
   ],
   "source": [
    "# train model\n",
    "model = GCNGraph(hidden_channels=64, dataset = imdb_dataset)\n",
    "optimizer = torch.optim.Adam(model.parameters(), lr=0.01)\n",
    "criterion = torch.nn.CrossEntropyLoss()\n",
    "\n",
    "for epoch in range(EPOCHS):\n",
    "    gnn.GCNGraph_train(model, criterion, optimizer, train_loader)\n",
    "    test_acc = gnn.GCNGraph_test(model, test_loader)\n",
    "print(f'Test Acc: {test_acc:.4f}')"
   ]
  },
  {
   "cell_type": "markdown",
   "metadata": {},
   "source": [
    "# Graph classification: ENZYME"
   ]
  },
  {
   "cell_type": "code",
   "execution_count": 7,
   "metadata": {},
   "outputs": [],
   "source": [
    "# set up dataset\n",
    "train_loader, test_loader = helper_funcs.preprocess_data(enzyme_dataset, onehot=False, batch_size=64)"
   ]
  },
  {
   "cell_type": "code",
   "execution_count": 8,
   "metadata": {},
   "outputs": [
    {
     "name": "stdout",
     "output_type": "stream",
     "text": [
      "Test Acc: 0.5583\n"
     ]
    }
   ],
   "source": [
    "# train model\n",
    "model = GCNGraph(hidden_channels= 64, dataset = enzyme_dataset)\n",
    "optimizer = torch.optim.Adam(model.parameters(), lr=0.01)\n",
    "criterion = torch.nn.CrossEntropyLoss()\n",
    "\n",
    "for epoch in range(EPOCHS*10):\n",
    "    gnn.GCNGraph_train(model, criterion, optimizer, train_loader)\n",
    "    test_acc = gnn.GCNGraph_test(model, test_loader)\n",
    "print(f'Test Acc: {test_acc:.4f}')"
   ]
  },
  {
   "cell_type": "markdown",
   "metadata": {},
   "source": []
  }
 ],
 "metadata": {
  "kernelspec": {
   "display_name": "dsc180",
   "language": "python",
   "name": "python3"
  },
  "language_info": {
   "codemirror_mode": {
    "name": "ipython",
    "version": 3
   },
   "file_extension": ".py",
   "mimetype": "text/x-python",
   "name": "python",
   "nbconvert_exporter": "python",
   "pygments_lexer": "ipython3",
   "version": "3.12.7"
  }
 },
 "nbformat": 4,
 "nbformat_minor": 2
}
