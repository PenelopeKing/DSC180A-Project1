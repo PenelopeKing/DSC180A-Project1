{
 "cells": [
  {
   "cell_type": "code",
   "execution_count": 1,
   "metadata": {},
   "outputs": [],
   "source": [
    "import gnn\n",
    "import torch\n",
    "import helper_funcs\n",
    "from torch_geometric.datasets import TUDataset\n",
    "from torch_geometric.datasets import Planetoid"
   ]
  },
  {
   "cell_type": "code",
   "execution_count": 2,
   "metadata": {},
   "outputs": [],
   "source": [
    "# import 3 datasets\n",
    "imdb_dataset = TUDataset(root='/tmp/IMDB-BINARY', name='IMDB-BINARY')\n",
    "cora_dataset = Planetoid(root='/tmp/Cora', name='Cora')\n",
    "enzyme_dataset = TUDataset(root='/tmp/ENZYMES', name='ENZYMES')"
   ]
  },
  {
   "cell_type": "code",
   "execution_count": 3,
   "metadata": {},
   "outputs": [],
   "source": [
    "EPOCHS = 500"
   ]
  },
  {
   "cell_type": "markdown",
   "metadata": {},
   "source": [
    "# Node classifcation: CORA"
   ]
  },
  {
   "cell_type": "code",
   "execution_count": 4,
   "metadata": {},
   "outputs": [
    {
     "name": "stdout",
     "output_type": "stream",
     "text": [
      "Test Accurarcy: 0.765\n"
     ]
    }
   ],
   "source": [
    "# init model\n",
    "hidden_channels = 32 \n",
    "layers = 2\n",
    "model = gnn.GATNode(cora_dataset.num_features, hidden_channels, cora_dataset.num_classes,\n",
    "            16, layers)\n",
    "optimizer = torch.optim.Adam(model.parameters(), lr=0.005, weight_decay=5e-4)\n",
    "\n",
    "# train and test model\n",
    "test_acc = 0\n",
    "for epoch in range(EPOCHS):\n",
    "    loss = gnn.GATNode_train(model, optimizer, cora_dataset)\n",
    "    train_acc, val_acc, test_acc = gnn.GATNode_test(model, cora_dataset)\n",
    "\n",
    "print('Test Accurarcy: ' + str(test_acc))"
   ]
  },
  {
   "cell_type": "markdown",
   "metadata": {},
   "source": [
    "# Graph classifcation: IMDB"
   ]
  },
  {
   "cell_type": "code",
   "execution_count": 9,
   "metadata": {},
   "outputs": [
    {
     "name": "stdout",
     "output_type": "stream",
     "text": [
      "Test Acc: 0.5000\n"
     ]
    }
   ],
   "source": [
    "# set up dataset\n",
    "train_loader, test_loader = helper_funcs.preprocess_data(imdb_dataset, onehot=True, batch_size=64)\n",
    "\n",
    "# init model\n",
    "hidden_channels = 5\n",
    "heads = 4\n",
    "model = gnn.GATGraph(imdb_dataset.num_features, hidden_channels, imdb_dataset.num_classes,\n",
    "            layers)\n",
    "# train model and test\n",
    "for epoch in range(EPOCHS):\n",
    "    loss = gnn.GATGraph_train(model, train_loader, imdb_dataset, optimizer)\n",
    "    test_acc = gnn.GATGraph_test(model, test_loader)\n",
    "print(f'Test Acc: {test_acc:.4f}')"
   ]
  },
  {
   "cell_type": "markdown",
   "metadata": {},
   "source": [
    "# Graph classification: ENZYME"
   ]
  },
  {
   "cell_type": "code",
   "execution_count": 11,
   "metadata": {},
   "outputs": [
    {
     "name": "stdout",
     "output_type": "stream",
     "text": [
      "Test Acc: 0.1958\n"
     ]
    }
   ],
   "source": [
    "# set up dataset\n",
    "train_loader, test_loader = helper_funcs.preprocess_data(enzyme_dataset, onehot=True, batch_size=64)\n",
    "\n",
    "# init model\n",
    "hidden_channels = 5\n",
    "heads = 4\n",
    "model = gnn.GATGraph(enzyme_dataset.num_features, hidden_channels, enzyme_dataset.num_classes,\n",
    "            layers)\n",
    "# train model and test\n",
    "for epoch in range(EPOCHS):\n",
    "    loss = gnn.GATGraph_train(model, train_loader, enzyme_dataset, optimizer)\n",
    "    test_acc = gnn.GATGraph_test(model, test_loader)\n",
    "print(f'Test Acc: {test_acc:.4f}')"
   ]
  },
  {
   "cell_type": "markdown",
   "metadata": {},
   "source": []
  }
 ],
 "metadata": {
  "kernelspec": {
   "display_name": "dsc180",
   "language": "python",
   "name": "python3"
  },
  "language_info": {
   "codemirror_mode": {
    "name": "ipython",
    "version": 3
   },
   "file_extension": ".py",
   "mimetype": "text/x-python",
   "name": "python",
   "nbconvert_exporter": "python",
   "pygments_lexer": "ipython3",
   "version": "3.12.7"
  }
 },
 "nbformat": 4,
 "nbformat_minor": 2
}
