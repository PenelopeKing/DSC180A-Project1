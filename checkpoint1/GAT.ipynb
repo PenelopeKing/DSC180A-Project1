{
 "cells": [
  {
   "cell_type": "markdown",
   "metadata": {},
   "source": [
    "# GAT\n",
    "GAT baselines\n",
    "* GATNode for node classifcation\n",
    "* GATGraph for graph classifcation"
   ]
  },
  {
   "cell_type": "markdown",
   "metadata": {},
   "source": [
    "#### Set Up"
   ]
  },
  {
   "cell_type": "code",
   "execution_count": 1,
   "metadata": {},
   "outputs": [],
   "source": [
    "from setup import *"
   ]
  },
  {
   "cell_type": "code",
   "execution_count": 2,
   "metadata": {},
   "outputs": [],
   "source": [
    "# import 3 datasets\n",
    "imdb_dataset, cora_dataset, enzyme_dataset = helper_funcs.load_data()\n",
    "\n",
    "# global variables\n",
    "EPOCHS = 500 # number of epochs to run while training"
   ]
  },
  {
   "cell_type": "markdown",
   "metadata": {},
   "source": [
    "## Node classifcation: CORA"
   ]
  },
  {
   "cell_type": "code",
   "execution_count": 3,
   "metadata": {},
   "outputs": [
    {
     "name": "stdout",
     "output_type": "stream",
     "text": [
      "Test Accurarcy: 0.751\n"
     ]
    }
   ],
   "source": [
    "# init model\n",
    "hidden_channels = 32 \n",
    "layers = 2\n",
    "cora_mdl = gnn.GATNode(cora_dataset.num_features, \n",
    "                       hidden_channels, \n",
    "                       cora_dataset.num_classes, 16, layers)\n",
    "optimizer = torch.optim.Adam(cora_mdl.parameters(), \n",
    "                             lr=0.005, \n",
    "                             weight_decay=5e-4)\n",
    "\n",
    "# train and test model\n",
    "test_acc = 0\n",
    "for epoch in range(EPOCHS):\n",
    "    loss = gnn.GATNode_train(cora_mdl, optimizer, cora_dataset)\n",
    "# test model\n",
    "train_acc, val_acc, test_acc = gnn.GATNode_test(cora_mdl, cora_dataset)\n",
    "print('Test Accurarcy: ' + str(test_acc))"
   ]
  },
  {
   "cell_type": "markdown",
   "metadata": {},
   "source": [
    "## Graph classifcation: IMDB"
   ]
  },
  {
   "cell_type": "code",
   "execution_count": 22,
   "metadata": {},
   "outputs": [],
   "source": [
    "# set up dataset into train/test loaders\n",
    "train_loader, test_loader = helper_funcs.preprocess_data(imdb_dataset, \n",
    "                                                         onehot=True, \n",
    "                                                         batch_size=64)"
   ]
  },
  {
   "cell_type": "code",
   "execution_count": 23,
   "metadata": {},
   "outputs": [
    {
     "name": "stdout",
     "output_type": "stream",
     "text": [
      "Test Acc: 0.4537\n"
     ]
    }
   ],
   "source": [
    "# init model\n",
    "hidden_channels = 15\n",
    "layers = 2\n",
    "imdb_mdl = gnn.GATGraph(imdb_dataset.num_features, \n",
    "                        hidden_channels, \n",
    "                        imdb_dataset.num_classes, layers)\n",
    "\n",
    "# train model and test\n",
    "for epoch in range(EPOCHS):\n",
    "    loss = gnn.GATGraph_train(imdb_mdl, train_loader, imdb_dataset, optimizer)\n",
    "test_acc = gnn.GATGraph_test(imdb_mdl, test_loader)\n",
    "print(f'Test Acc: {test_acc:.4f}')"
   ]
  },
  {
   "cell_type": "markdown",
   "metadata": {},
   "source": [
    "## Graph classification: ENZYME"
   ]
  },
  {
   "cell_type": "code",
   "execution_count": 20,
   "metadata": {},
   "outputs": [],
   "source": [
    "# set up dataset\n",
    "train_loader, test_loader = helper_funcs.preprocess_data(enzyme_dataset, \n",
    "                                                         onehot=False, \n",
    "                                                         batch_size=64)"
   ]
  },
  {
   "cell_type": "code",
   "execution_count": 21,
   "metadata": {},
   "outputs": [
    {
     "name": "stdout",
     "output_type": "stream",
     "text": [
      "Test Acc: 0.1750\n"
     ]
    }
   ],
   "source": [
    "# init model\n",
    "hidden_channels = 15\n",
    "layers = 2\n",
    "enzyme_mdl = gnn.GATGraph(enzyme_dataset.num_features, \n",
    "                          hidden_channels, \n",
    "                          enzyme_dataset.num_classes,\n",
    "                        layers)\n",
    "# train model and test\n",
    "for epoch in range(EPOCHS):\n",
    "    loss = gnn.GATGraph_train(enzyme_mdl, train_loader, enzyme_dataset, optimizer)\n",
    "    test_acc = gnn.GATGraph_test(enzyme_mdl, test_loader)\n",
    "print(f'Test Acc: {test_acc:.4f}')"
   ]
  },
  {
   "cell_type": "code",
   "execution_count": null,
   "metadata": {},
   "outputs": [],
   "source": []
  }
 ],
 "metadata": {
  "kernelspec": {
   "display_name": "dsc180",
   "language": "python",
   "name": "python3"
  },
  "language_info": {
   "codemirror_mode": {
    "name": "ipython",
    "version": 3
   },
   "file_extension": ".py",
   "mimetype": "text/x-python",
   "name": "python",
   "nbconvert_exporter": "python",
   "pygments_lexer": "ipython3",
   "version": "3.12.7"
  }
 },
 "nbformat": 4,
 "nbformat_minor": 2
}
