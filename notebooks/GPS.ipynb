{
 "cells": [
  {
   "cell_type": "markdown",
   "metadata": {},
   "source": [
    "# GPS\n",
    "GPS Benchmark"
   ]
  },
  {
   "cell_type": "code",
   "execution_count": 2,
   "metadata": {},
   "outputs": [],
   "source": [
    "import sys\n",
    "import os\n",
    "import random\n",
    "\n",
    "# Add the absolute path to the src directory \n",
    "os.chdir('../src')\n",
    "src_path = os.path.abspath('../src/')\n",
    "sys.path.insert(0, src_path)\n",
    "\n",
    "from setup import *"
   ]
  },
  {
   "cell_type": "code",
   "execution_count": 3,
   "metadata": {},
   "outputs": [],
   "source": [
    "# setting global variables\n",
    "EPOCHS = 80"
   ]
  },
  {
   "cell_type": "markdown",
   "metadata": {},
   "source": [
    "# IMDB Data"
   ]
  },
  {
   "cell_type": "code",
   "execution_count": null,
   "metadata": {},
   "outputs": [
    {
     "name": "stderr",
     "output_type": "stream",
     "text": [
      "Downloading https://www.chrsmrrs.com/graphkerneldatasets/IMDB-BINARY.zip\n",
      "Processing...\n",
      "Done!\n"
     ]
    },
    {
     "name": "stdout",
     "output_type": "stream",
     "text": [
      "Final Loss: 0.4603, Final Train Acc: 0.7875, Final Test Acc: 0.7450\n"
     ]
    }
   ],
   "source": [
    "# load data\n",
    "imdb_train_loader, imdb_test_loader = load_imdb()\n",
    "imdb_dataset = imdb_train_loader.dataset\n",
    "num_node_features = imdb_dataset[0].num_node_features\n",
    "\n",
    "# input params\n",
    "device = torch.device('cuda' if torch.cuda.is_available() else 'cpu')\n",
    "attn_kwargs = {'dropout': 0.5}\n",
    "model = GPSGraph(channels=64,\\\n",
    "             num_node_features = num_node_features, \\\n",
    "                num_layers=4, attn_type='performer', \\\n",
    "                    attn_kwargs=attn_kwargs).to(device)\n",
    "optimizer = torch.optim.Adam(model.parameters(), lr=0.0001, weight_decay=1e-5)\n",
    "scheduler = ReduceLROnPlateau(optimizer, mode='min', factor=0.5, patience=20, min_lr=0.00001)\n",
    "\n",
    "# train test acc\n",
    "for epoch in range(EPOCHS):\n",
    "    loss = train_gps_graph(model, imdb_train_loader, optimizer, device)\n",
    "    test_acc = test_gps_graph(model, imdb_test_loader, device)\n",
    "    train_acc = test_gps_graph(model, imdb_train_loader, device)\n",
    "    scheduler.step(loss)\n",
    "\n",
    "print(f'Final Loss: {loss:.4f}, Final Train Acc: {train_acc:.4f}, Final Test Acc: {test_acc:.4f}')\n"
   ]
  },
  {
   "cell_type": "markdown",
   "metadata": {},
   "source": [
    "# ENZYME data"
   ]
  },
  {
   "cell_type": "code",
   "execution_count": null,
   "metadata": {},
   "outputs": [
    {
     "name": "stdout",
     "output_type": "stream",
     "text": [
      "Final Loss: -0.1845,  Final Train Acc: 0.1750, Final Test Acc: 0.1333\n"
     ]
    }
   ],
   "source": [
    "# load data\n",
    "enzyme_train_loader, enzyme_test_loader = load_enzyme()\n",
    "enzyme_dataset = enzyme_train_loader.dataset\n",
    "num_node_features = enzyme_dataset[0].num_node_features\n",
    "\n",
    "# input params\n",
    "device = torch.device('cuda' if torch.cuda.is_available() else 'cpu')\n",
    "attn_kwargs = {'dropout': 0.5}\n",
    "model = GPSGraph(channels=132,\\\n",
    "             num_node_features = num_node_features, \\\n",
    "                num_layers=8, attn_type='performer', \\\n",
    "                    attn_kwargs=attn_kwargs).to(device)\n",
    "optimizer = torch.optim.Adam(model.parameters(), lr=0.00000001, weight_decay=1e-5)\n",
    "scheduler = ReduceLROnPlateau(optimizer, mode='min', factor=0.5, patience=20, min_lr=0.0001)\n",
    "\n",
    "# train test acc\n",
    "for epoch in range(EPOCHS):\n",
    "    loss = train_gps_graph(model, enzyme_train_loader, optimizer, device)\n",
    "    test_acc = test_gps_graph(model, enzyme_train_loader, device)\n",
    "    train_acc = test_gps_graph(model, enzyme_test_loader, device)\n",
    "    scheduler.step(loss)\n",
    "\n",
    "print(f'Final Loss: {loss:.4f},  Final Train Acc: {train_acc:.4f}, Final Test Acc: {test_acc:.4f}')\n"
   ]
  },
  {
   "cell_type": "markdown",
   "metadata": {},
   "source": [
    "# CORA"
   ]
  },
  {
   "cell_type": "code",
   "execution_count": null,
   "metadata": {},
   "outputs": [
    {
     "name": "stdout",
     "output_type": "stream",
     "text": [
      "Final Loss: 0.0029, Final Train Acc: 1.0000 , Final Test Acc: 0.7260\n"
     ]
    }
   ],
   "source": [
    "# Load data\n",
    "cora_dataset = Planetoid(root='/tmp/Cora', name='Cora')[0]\n",
    "num_node_features = cora_dataset.num_node_features\n",
    "num_classes = int(cora_dataset.y.max().item()) + 1  # Assuming labels are from 0 to num_classes - 1\n",
    "\n",
    "# init vars and params\n",
    "device = torch.device('cuda' if torch.cuda.is_available() else 'cpu')\n",
    "model = GPSNode(\n",
    "    num_node_features=num_node_features,\n",
    "    hidden_channels=132,\n",
    "    num_classes=num_classes,\n",
    "    num_layers=8,\n",
    ").to(device)\n",
    "optimizer = torch.optim.Adam(model.parameters(), lr=1e-3, weight_decay=1e-5)\n",
    "scheduler = ReduceLROnPlateau(optimizer, mode='min', factor=0.5, patience=20, min_lr=1e-4)\n",
    "\n",
    "# training loop, get train test acc\n",
    "for epoch in range(EPOCHS):\n",
    "    loss = train_gps_nodes(model, cora_dataset, optimizer, device)\n",
    "    train_acc, test_acc = test_gps_nodes(model, cora_dataset, device)\n",
    "    scheduler.step(loss)\n",
    "\n",
    "print(f'Final Loss: {loss:.4f}, Final Train Acc: {train_acc:.4f} , Final Test Acc: {test_acc:.4f}')\n"
   ]
  }
 ],
 "metadata": {
  "kernelspec": {
   "display_name": "dsc180",
   "language": "python",
   "name": "python3"
  },
  "language_info": {
   "codemirror_mode": {
    "name": "ipython",
    "version": 3
   },
   "file_extension": ".py",
   "mimetype": "text/x-python",
   "name": "python",
   "nbconvert_exporter": "python",
   "pygments_lexer": "ipython3",
   "version": "3.12.7"
  }
 },
 "nbformat": 4,
 "nbformat_minor": 2
}
