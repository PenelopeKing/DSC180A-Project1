{
 "cells": [
  {
   "cell_type": "markdown",
   "metadata": {},
   "source": [
    "# GAT\n",
    "GAT baselines\n",
    "* GATNode for node classifcation\n",
    "* GATGraph for graph classifcation"
   ]
  },
  {
   "cell_type": "markdown",
   "metadata": {},
   "source": [
    "#### Set Up"
   ]
  },
  {
   "cell_type": "code",
   "execution_count": 1,
   "metadata": {},
   "outputs": [
    {
     "name": "stderr",
     "output_type": "stream",
     "text": [
      "/opt/anaconda3/envs/dsc180/lib/python3.12/site-packages/tqdm/auto.py:21: TqdmWarning: IProgress not found. Please update jupyter and ipywidgets. See https://ipywidgets.readthedocs.io/en/stable/user_install.html\n",
      "  from .autonotebook import tqdm as notebook_tqdm\n"
     ]
    }
   ],
   "source": [
    "import sys\n",
    "import os\n",
    "import random\n",
    "\n",
    "\n",
    "# Add the absolute path to the src directory \n",
    "os.chdir('../src')\n",
    "src_path = os.path.abspath('../src/')\n",
    "sys.path.insert(0, src_path)\n",
    "\n",
    "from setup import *\n",
    "seed = 123\n",
    "import random\n",
    "torch.manual_seed(seed)\n",
    "random.seed(seed)\n",
    "np.random.seed(seed)"
   ]
  },
  {
   "cell_type": "code",
   "execution_count": 3,
   "metadata": {},
   "outputs": [],
   "source": [
    "# import 3 datasets\n",
    "imdb_dataset, cora_dataset, enzyme_dataset = load_data()"
   ]
  },
  {
   "cell_type": "markdown",
   "metadata": {},
   "source": [
    "## Node classifcation: CORA"
   ]
  },
  {
   "cell_type": "code",
   "execution_count": null,
   "metadata": {},
   "outputs": [
    {
     "name": "stdout",
     "output_type": "stream",
     "text": [
      "CORA Test Acc: 0.8010\n",
      "CORA Train Acc: 1.0000\n"
     ]
    }
   ],
   "source": [
    "# init model\n",
    "hidden_channels = 32 \n",
    "layers = 2\n",
    "cora_mdl = GATNode(cora_dataset.num_features, \n",
    "                       hidden_channels, \n",
    "                       cora_dataset.num_classes, 16, layers)\n",
    "optimizer = torch.optim.Adam(cora_mdl.parameters(), \n",
    "                             lr=0.005, \n",
    "                             weight_decay=5e-4)\n",
    "\n",
    "# train and test model\n",
    "for _ in range(100):\n",
    "    cora_mdl = node_train(cora_mdl, cora_dataset, optimizer)\n",
    "\n",
    "# calculate accuracy\n",
    "cora_test_acc, cora_train_acc, pred = node_test(cora_mdl, cora_dataset)\n",
    "print(f'CORA Test Acc: {cora_test_acc:.4f}')\n",
    "print(f'CORA Train Acc: {cora_train_acc:.4f}')"
   ]
  },
  {
   "cell_type": "markdown",
   "metadata": {},
   "source": [
    "## Graph classifcation: IMDB"
   ]
  },
  {
   "cell_type": "code",
   "execution_count": 27,
   "metadata": {},
   "outputs": [],
   "source": [
    "# set up dataset into train/test loaders\n",
    "train_loader, test_loader = preprocess_data(imdb_dataset, \n",
    "                                            onehot=True, \n",
    "                                            batch_size=64)"
   ]
  },
  {
   "cell_type": "code",
   "execution_count": 28,
   "metadata": {},
   "outputs": [
    {
     "name": "stdout",
     "output_type": "stream",
     "text": [
      "Final TEST Accuracy on IMDB: 0.6400\n",
      "Final TRAIN Accuracy on IMDB: 0.7812\n"
     ]
    }
   ],
   "source": [
    "# init model\n",
    "hidden_channels = 15\n",
    "layers = 2\n",
    "heads = 5\n",
    "imdb_mdl = GATGraph(imdb_dataset.num_features, \n",
    "                        hidden_channels, \n",
    "                        imdb_dataset.num_classes, heads, layers)\n",
    "optimizer = torch.optim.Adam(imdb_mdl.parameters(), lr=0.01)\n",
    "# train model\n",
    "for _ in range(100):\n",
    "    graph_train(imdb_mdl, train_loader, optimizer)\n",
    "# test and trian accuracy\n",
    "test_acc, train_acc = graph_test(imdb_mdl, test_loader, train_loader)\n",
    "print(f\"Final TEST Accuracy on IMDB: {test_acc:.4f}\")\n",
    "print(f\"Final TRAIN Accuracy on IMDB: {train_acc:.4f}\")"
   ]
  },
  {
   "cell_type": "markdown",
   "metadata": {},
   "source": [
    "## Graph classification: ENZYME"
   ]
  },
  {
   "cell_type": "code",
   "execution_count": 2,
   "metadata": {},
   "outputs": [],
   "source": [
    "# set up dataset\n",
    "train_loader, test_loader = load_enzyme()"
   ]
  },
  {
   "cell_type": "code",
   "execution_count": 17,
   "metadata": {},
   "outputs": [
    {
     "name": "stdout",
     "output_type": "stream",
     "text": [
      "EPOCH 0 : Train Acc = 0.1646 , Test Acc = 0.1917\n",
      "EPOCH 10 : Train Acc = 0.1750 , Test Acc = 0.1917\n",
      "EPOCH 20 : Train Acc = 0.1646 , Test Acc = 0.1917\n",
      "EPOCH 30 : Train Acc = 0.1771 , Test Acc = 0.2000\n",
      "EPOCH 40 : Train Acc = 0.1875 , Test Acc = 0.2750\n",
      "EPOCH 50 : Train Acc = 0.2042 , Test Acc = 0.2833\n",
      "EPOCH 60 : Train Acc = 0.2104 , Test Acc = 0.2583\n",
      "EPOCH 70 : Train Acc = 0.1938 , Test Acc = 0.3083\n",
      "EPOCH 80 : Train Acc = 0.2021 , Test Acc = 0.2833\n",
      "EPOCH 90 : Train Acc = 0.2021 , Test Acc = 0.2417\n",
      "EPOCH 100 : Train Acc = 0.2042 , Test Acc = 0.2667\n",
      "EPOCH 110 : Train Acc = 0.2042 , Test Acc = 0.3083\n",
      "EPOCH 120 : Train Acc = 0.2125 , Test Acc = 0.2917\n",
      "EPOCH 130 : Train Acc = 0.1958 , Test Acc = 0.2500\n",
      "EPOCH 140 : Train Acc = 0.1958 , Test Acc = 0.2417\n",
      "Final TEST Accuracy on ENZYME: 0.2667\n",
      "Final TRAIN Accuracy on ENZYME: 0.1958\n"
     ]
    }
   ],
   "source": [
    "# init model\n",
    "hidden_channels = 32\n",
    "layers = 3\n",
    "heads = 2\n",
    "enzyme_mdl = GATGraph(enzyme_dataset.num_features, \n",
    "                          hidden_channels, \n",
    "                          enzyme_dataset.num_classes,\n",
    "                        heads, layers)\n",
    "optimizer = torch.optim.Adam(enzyme_mdl.parameters(), lr=0.0001,\n",
    "                             weight_decay=1e-5)\n",
    "\n",
    "# train model\n",
    "for epoch in range(150):\n",
    "    enzyme_mdl = graph_train(enzyme_mdl, train_loader, optimizer)\n",
    "    test_acc, train_acc = graph_test(enzyme_mdl, test_loader, train_loader)\n",
    "    if epoch % 10 == 0:\n",
    "        print(f\"EPOCH {epoch} : Train Acc = {train_acc:.4f} , Test Acc = {test_acc:.4f}\")\n",
    "\n",
    "# get test and train acc\n",
    "test_acc, train_acc = graph_test(enzyme_mdl, test_loader, train_loader)\n",
    "print(f\"Final TEST Accuracy on ENZYME: {test_acc:.4f}\")\n",
    "print(f\"Final TRAIN Accuracy on ENZYME: {train_acc:.4f}\")"
   ]
  },
  {
   "cell_type": "code",
   "execution_count": null,
   "metadata": {},
   "outputs": [],
   "source": []
  }
 ],
 "metadata": {
  "kernelspec": {
   "display_name": "dsc180",
   "language": "python",
   "name": "python3"
  },
  "language_info": {
   "codemirror_mode": {
    "name": "ipython",
    "version": 3
   },
   "file_extension": ".py",
   "mimetype": "text/x-python",
   "name": "python",
   "nbconvert_exporter": "python",
   "pygments_lexer": "ipython3",
   "version": "3.12.7"
  }
 },
 "nbformat": 4,
 "nbformat_minor": 2
}
