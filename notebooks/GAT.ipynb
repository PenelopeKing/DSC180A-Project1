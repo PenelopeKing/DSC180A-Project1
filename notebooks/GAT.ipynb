{
 "cells": [
  {
   "cell_type": "markdown",
   "metadata": {},
   "source": [
    "# GAT\n",
    "GAT baselines\n",
    "* GATNode for node classifcation\n",
    "* GATGraph for graph classifcation"
   ]
  },
  {
   "cell_type": "markdown",
   "metadata": {},
   "source": [
    "#### Set Up"
   ]
  },
  {
   "cell_type": "code",
   "execution_count": null,
   "metadata": {},
   "outputs": [],
   "source": [
    "import sys\n",
    "import os\n",
    "import random\n",
    "\n",
    "\n",
    "# Add the absolute path to the src directory \n",
    "os.chdir('../src')\n",
    "src_path = os.path.abspath('../src/')\n",
    "sys.path.insert(0, src_path)\n",
    "\n",
    "from setup import *"
   ]
  },
  {
   "cell_type": "code",
   "execution_count": null,
   "metadata": {},
   "outputs": [],
   "source": [
    "# import 3 datasets\n",
    "imdb_dataset, cora_dataset, enzyme_dataset = load_data()\n",
    "\n",
    "# global variables\n",
    "EPOCHS = 500 # number of epochs to run while training"
   ]
  },
  {
   "cell_type": "markdown",
   "metadata": {},
   "source": [
    "## Node classifcation: CORA"
   ]
  },
  {
   "cell_type": "code",
   "execution_count": null,
   "metadata": {},
   "outputs": [],
   "source": [
    "# init model\n",
    "hidden_channels = 32 \n",
    "layers = 2\n",
    "cora_mdl = GATNode(cora_dataset.num_features, \n",
    "                       hidden_channels, \n",
    "                       cora_dataset.num_classes, 16, layers)\n",
    "optimizer = torch.optim.Adam(cora_mdl.parameters(), \n",
    "                             lr=0.005, \n",
    "                             weight_decay=5e-4)\n",
    "\n",
    "# train and test model\n",
    "for _ in range(EPOCHS):\n",
    "    cora_mdl = node_train(cora_mdl, cora_dataset, optimizer)\n",
    "\n",
    "# calculate accuracy\n",
    "cora_test_acc, cora_train_acc, pred = node_test(cora_mdl, cora_dataset)\n",
    "print(f'CORA Test Acc: {cora_test_acc:.4f}')\n",
    "print(f'CORA Train Acc: {cora_train_acc:.4f}')"
   ]
  },
  {
   "cell_type": "markdown",
   "metadata": {},
   "source": [
    "## Graph classifcation: IMDB"
   ]
  },
  {
   "cell_type": "code",
   "execution_count": null,
   "metadata": {},
   "outputs": [],
   "source": [
    "# set up dataset into train/test loaders\n",
    "train_loader, test_loader = preprocess_data(imdb_dataset, \n",
    "                                                         onehot=True, \n",
    "                                                         batch_size=64)"
   ]
  },
  {
   "cell_type": "code",
   "execution_count": null,
   "metadata": {},
   "outputs": [],
   "source": [
    "# init model\n",
    "hidden_channels = 15\n",
    "layers = 2\n",
    "heads = 5\n",
    "imdb_mdl = GATGraph(imdb_dataset.num_features, \n",
    "                        hidden_channels, \n",
    "                        imdb_dataset.num_classes, heads, layers)\n",
    "optimizer = torch.optim.Adam(imdb_mdl.parameters(), lr=0.01)\n",
    "# train model\n",
    "for _ in range(EPOCHS):\n",
    "    graph_train(imdb_mdl, train_loader, optimizer)\n",
    "# test and trian accuracy\n",
    "test_acc, train_acc = graph_test(imdb_mdl, test_loader, train_loader)\n",
    "print(f\"Final TEST Accuracy on ENZYME: {test_acc:.4f}\")\n",
    "print(f\"Final TRAIN Accuracy on ENZYME: {train_acc:.4f}\")"
   ]
  },
  {
   "cell_type": "markdown",
   "metadata": {},
   "source": [
    "## Graph classification: ENZYME"
   ]
  },
  {
   "cell_type": "code",
   "execution_count": null,
   "metadata": {},
   "outputs": [],
   "source": [
    "# set up dataset\n",
    "train_loader, test_loader = preprocess_data(enzyme_dataset, \n",
    "                                                         onehot=False, \n",
    "                                                         batch_size=64)"
   ]
  },
  {
   "cell_type": "code",
   "execution_count": null,
   "metadata": {},
   "outputs": [],
   "source": [
    "# init model\n",
    "hidden_channels = 20\n",
    "layers = 4\n",
    "heads = 5\n",
    "enzyme_mdl = GATGraph(enzyme_dataset.num_features, \n",
    "                          hidden_channels, \n",
    "                          enzyme_dataset.num_classes,\n",
    "                        heads, layers)\n",
    "optimizer = torch.optim.Adam(enzyme_mdl.parameters(), lr=0.01,\n",
    "                             weight_decay=5e-4)\n",
    "\n",
    "\n",
    "\n",
    "# train model\n",
    "for epoch in range(EPOCHS):\n",
    "    graph_train(enzyme_mdl, train_loader, optimizer)\n",
    "\n",
    "# get test and train acc\n",
    "test_acc, train_acc = graph_test(enzyme_mdl, test_loader, train_loader)\n",
    "print(f\"Final TEST Accuracy on ENZYME: {test_acc:.4f}\")\n",
    "print(f\"Final TRAIN Accuracy on ENZYME: {train_acc:.4f}\")"
   ]
  },
  {
   "cell_type": "markdown",
   "metadata": {},
   "source": [
    "# Long Range Graph Benchmark dataset"
   ]
  },
  {
   "cell_type": "code",
   "execution_count": null,
   "metadata": {},
   "outputs": [],
   "source": [
    "# load all data train-valid-test\n",
    "\n",
    "imdb_train_loader, imdb_val_loader, imdb_test_loader = load_imdb()\n",
    "cocosp_train_loader, cocosp_val_loader, cocosp_test_loader = load_cocosp()\n",
    "enzyme_train_loader, enzyme_val_loader, enzyme_test_loader = load_enzyme()\n",
    "cora_train_loader, cora_val_loader, cora_test_loader = load_cora()"
   ]
  },
  {
   "cell_type": "code",
   "execution_count": null,
   "metadata": {},
   "outputs": [],
   "source": [
    "load_imdb"
   ]
  }
 ],
 "metadata": {
  "kernelspec": {
   "display_name": "dsc180",
   "language": "python",
   "name": "python3"
  },
  "language_info": {
   "codemirror_mode": {
    "name": "ipython",
    "version": 3
   },
   "file_extension": ".py",
   "mimetype": "text/x-python",
   "name": "python",
   "nbconvert_exporter": "python",
   "pygments_lexer": "ipython3",
   "version": "3.12.7"
  }
 },
 "nbformat": 4,
 "nbformat_minor": 2
}
