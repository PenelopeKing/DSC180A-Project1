{
 "cells": [
  {
   "cell_type": "code",
   "execution_count": 1,
   "metadata": {},
   "outputs": [],
   "source": [
    "import sys\n",
    "import os\n",
    "import random\n",
    "\n",
    "# Add the absolute path to the src directory \n",
    "os.chdir('../src')\n",
    "src_path = os.path.abspath('../src/')\n",
    "sys.path.insert(0, src_path)\n",
    "\n",
    "from setup import *\n",
    "seed = 123\n",
    "import random\n",
    "torch.manual_seed(seed)\n",
    "random.seed(seed)\n",
    "np.random.seed(seed)"
   ]
  },
  {
   "cell_type": "markdown",
   "metadata": {},
   "source": [
    "All working on Pepties Func dataset"
   ]
  },
  {
   "cell_type": "code",
   "execution_count": null,
   "metadata": {},
   "outputs": [
    {
     "name": "stdout",
     "output_type": "stream",
     "text": [
      "Loaded and split data\n",
      "Data done loading\n"
     ]
    }
   ],
   "source": [
    "# load the data\n",
    "mp.set_start_method('spawn', force=True)\n",
    "# Load entire Peptides-func dataset\n",
    "train_loader, test_loader, num_classes = load_peptides_func(parallel=True, subset_ratio=1.0)\n",
    "print('Data done loading')\n",
    "num_node_features = 9 "
   ]
  },
  {
   "cell_type": "markdown",
   "metadata": {},
   "source": [
    "# GPS"
   ]
  },
  {
   "cell_type": "code",
   "execution_count": 3,
   "metadata": {},
   "outputs": [
    {
     "name": "stdout",
     "output_type": "stream",
     "text": [
      "Starting training\n",
      "EPOCH 0 : Train Loss = 1.5592, Train Acc = 0.5105 , Test Acc = 0.5320\n",
      "EPOCH 10 : Train Loss = 1.3358, Train Acc = 0.5801 , Test Acc = 0.5894\n",
      "EPOCH 20 : Train Loss = 1.2685, Train Acc = 0.6043 , Test Acc = 0.6221\n",
      "EPOCH 30 : Train Loss = 1.2119, Train Acc = 0.6234 , Test Acc = 0.6414\n",
      "EPOCH 40 : Train Loss = 1.2068, Train Acc = 0.6182 , Test Acc = 0.6221\n",
      "EPOCH 50 : Train Loss = 1.1773, Train Acc = 0.6108 , Test Acc = 0.6285\n",
      "EPOCH 60 : Train Loss = 1.1706, Train Acc = 0.6181 , Test Acc = 0.6244\n",
      "EPOCH 70 : Train Loss = 1.1469, Train Acc = 0.6370 , Test Acc = 0.6497\n",
      "EPOCH 80 : Train Loss = 1.1208, Train Acc = 0.6428 , Test Acc = 0.6418\n",
      "EPOCH 90 : Train Loss = 1.1159, Train Acc = 0.6482 , Test Acc = 0.6464\n",
      "EPOCH 100 : Train Loss = 1.1106, Train Acc = 0.6460 , Test Acc = 0.6506\n",
      "EPOCH 110 : Train Loss = 1.1034, Train Acc = 0.6556 , Test Acc = 0.6524\n",
      "EPOCH 120 : Train Loss = 1.0986, Train Acc = 0.6535 , Test Acc = 0.6561\n",
      "EPOCH 130 : Train Loss = 1.0903, Train Acc = 0.6574 , Test Acc = 0.6533\n",
      "EPOCH 140 : Train Loss = 1.0853, Train Acc = 0.6518 , Test Acc = 0.6524\n",
      "EPOCH 150 : Train Loss = 1.0851, Train Acc = 0.6565 , Test Acc = 0.6589\n",
      "EPOCH 160 : Train Loss = 1.0821, Train Acc = 0.6538 , Test Acc = 0.6579\n",
      "EPOCH 170 : Train Loss = 1.0813, Train Acc = 0.6554 , Test Acc = 0.6611\n",
      "EPOCH 180 : Train Loss = 1.0805, Train Acc = 0.6553 , Test Acc = 0.6589\n",
      "EPOCH 190 : Train Loss = 1.0800, Train Acc = 0.6566 , Test Acc = 0.6602\n",
      "FINAL: Train Loss = 1.0799, Train Acc = 0.6560 , Test Acc = 0.6616\n"
     ]
    }
   ],
   "source": [
    "# Define model, optimizer, and scheduler\n",
    "device = torch.device('cuda' if torch.cuda.is_available() else 'cpu')\n",
    "model = GPSLongRange(\n",
    "    num_node_features=num_node_features,\n",
    "    hidden_channels=32,\n",
    "    num_classes=num_classes,\n",
    "    num_layers=5\n",
    ").to(device)\n",
    "optimizer = torch.optim.Adam(model.parameters(), lr=0.01, weight_decay=5e-4)\n",
    "scheduler = ReduceLROnPlateau(optimizer, mode='min', factor=0.5, patience=5)\n",
    "print('Starting training')\n",
    "\n",
    "# Training model, print final results\n",
    "for epoch in range(200):\n",
    "    train_loss = longrange_train(model, train_loader, optimizer, device)\n",
    "    train_acc = longrange_test(model, train_loader, device)\n",
    "    test_acc = longrange_test(model, test_loader, device)\n",
    "    if epoch % 10 == 0:\n",
    "        print(f\"EPOCH {epoch} : Train Loss = {train_loss:.4f}, Train Acc = {train_acc:.4f} , Test Acc = {test_acc:.4f}\")\n",
    "        \n",
    "    scheduler.step(train_loss)\n",
    "print(f\"FINAL: Train Loss = {train_loss:.4f}, Train Acc = {train_acc:.4f} , Test Acc = {test_acc:.4f}\")"
   ]
  },
  {
   "cell_type": "markdown",
   "metadata": {},
   "source": [
    "# GCN"
   ]
  },
  {
   "cell_type": "code",
   "execution_count": null,
   "metadata": {},
   "outputs": [
    {
     "name": "stdout",
     "output_type": "stream",
     "text": [
      "Starting training\n",
      "EPOCH 0 : Train Loss = 1.6090, Train Acc = 0.5105 , Test Acc = 0.5320\n",
      "EPOCH 10 : Train Loss = 1.3831, Train Acc = 0.5208 , Test Acc = 0.5421\n",
      "EPOCH 20 : Train Loss = 1.3819, Train Acc = 0.5293 , Test Acc = 0.5549\n",
      "EPOCH 30 : Train Loss = 1.3692, Train Acc = 0.5330 , Test Acc = 0.5577\n",
      "EPOCH 40 : Train Loss = 1.3420, Train Acc = 0.5673 , Test Acc = 0.5862\n",
      "EPOCH 50 : Train Loss = 1.3311, Train Acc = 0.5778 , Test Acc = 0.5945\n",
      "EPOCH 60 : Train Loss = 1.3095, Train Acc = 0.5921 , Test Acc = 0.6074\n",
      "EPOCH 70 : Train Loss = 1.2929, Train Acc = 0.5888 , Test Acc = 0.6055\n",
      "FINAL: Train Loss = 1.2838, Train Acc = 0.6023 , Test Acc = 0.6170\n"
     ]
    }
   ],
   "source": [
    "# Define model, optimizer, and scheduler\n",
    "device = torch.device('cuda' if torch.cuda.is_available() else 'cpu')\n",
    "model = GCNGraph(\n",
    "    num_node_features=num_node_features,\n",
    "    hidden_channels=32,\n",
    "    num_classes=num_classes,\n",
    "    layers=3\n",
    ").to(device)\n",
    "optimizer = torch.optim.Adam(model.parameters(), lr=0.01, weight_decay=5e-4)\n",
    "scheduler = ReduceLROnPlateau(optimizer, mode='min', factor=0.5, patience=5)\n",
    "print('Starting training')\n",
    "\n",
    "# Training model, print final results\n",
    "for epoch in range(80):\n",
    "    train_loss = longrange_train(model, train_loader, optimizer, device)\n",
    "    train_acc = longrange_test(model, train_loader, device)\n",
    "    test_acc = longrange_test(model, test_loader, device)\n",
    "    if epoch % 10 == 0:\n",
    "        print(f\"EPOCH {epoch} : Train Loss = {train_loss:.4f}, Train Acc = {train_acc:.4f} , Test Acc = {test_acc:.4f}\")\n",
    "        \n",
    "    scheduler.step(train_loss)\n",
    "print(f\"FINAL: Train Loss = {train_loss:.4f}, Train Acc = {train_acc:.4f} , Test Acc = {test_acc:.4f}\")"
   ]
  },
  {
   "cell_type": "markdown",
   "metadata": {},
   "source": [
    "# GIN"
   ]
  },
  {
   "cell_type": "code",
   "execution_count": 8,
   "metadata": {},
   "outputs": [
    {
     "name": "stdout",
     "output_type": "stream",
     "text": [
      "Starting training\n",
      "EPOCH 0 : Train Loss = 1.2809, Train Acc = 0.5736 , Test Acc = 0.5729\n",
      "EPOCH 10 : Train Loss = 1.0872, Train Acc = 0.5732 , Test Acc = 0.5816\n",
      "EPOCH 20 : Train Loss = 1.0691, Train Acc = 0.5758 , Test Acc = 0.5876\n",
      "EPOCH 30 : Train Loss = 1.0680, Train Acc = 0.6099 , Test Acc = 0.6207\n",
      "EPOCH 40 : Train Loss = 1.0531, Train Acc = 0.6015 , Test Acc = 0.6106\n",
      "FINAL: Train Loss = 1.0397, Train Acc = 0.6662 , Test Acc = 0.6777\n"
     ]
    }
   ],
   "source": [
    "# Define model, optimizer, and scheduler\n",
    "device = torch.device('cuda' if torch.cuda.is_available() else 'cpu')\n",
    "model = GINGraph(\n",
    "    in_channels=num_node_features,\n",
    "    hidden_channels=32,\n",
    "   out_channels=num_classes,\n",
    "   num_layers=3 \n",
    ").to(device)\n",
    "optimizer = torch.optim.Adam(model.parameters(), lr=0.01, weight_decay=5e-4)\n",
    "scheduler = ReduceLROnPlateau(optimizer, mode='min', factor=0.5, patience=5)\n",
    "print('Starting training')\n",
    "\n",
    "# Training model, print final results\n",
    "for epoch in range(50):\n",
    "    train_loss = longrange_train(model, train_loader, optimizer, device)\n",
    "    train_acc = longrange_test(model, train_loader, device)\n",
    "    test_acc = longrange_test(model, test_loader, device)\n",
    "    if epoch % 10 == 0:\n",
    "        print(f\"EPOCH {epoch} : Train Loss = {train_loss:.4f}, Train Acc = {train_acc:.4f} , Test Acc = {test_acc:.4f}\")\n",
    "    scheduler.step(train_loss)\n",
    "print(f\"FINAL: Train Loss = {train_loss:.4f}, Train Acc = {train_acc:.4f} , Test Acc = {test_acc:.4f}\")"
   ]
  },
  {
   "cell_type": "markdown",
   "metadata": {},
   "source": [
    "# GAT"
   ]
  },
  {
   "cell_type": "code",
   "execution_count": null,
   "metadata": {},
   "outputs": [
    {
     "name": "stdout",
     "output_type": "stream",
     "text": [
      "Starting training\n",
      "EPOCH 0 : Train Loss = 2.1035, Train Acc = 0.5105 , Test Acc = 0.5320\n",
      "EPOCH 10 : Train Loss = 1.6043, Train Acc = 0.5105 , Test Acc = 0.5320\n",
      "EPOCH 20 : Train Loss = 1.5895, Train Acc = 0.5105 , Test Acc = 0.5320\n",
      "EPOCH 30 : Train Loss = 1.5819, Train Acc = 0.5105 , Test Acc = 0.5320\n",
      "EPOCH 40 : Train Loss = 1.5752, Train Acc = 0.5105 , Test Acc = 0.5320\n",
      "EPOCH 50 : Train Loss = 1.5648, Train Acc = 0.5105 , Test Acc = 0.5320\n",
      "EPOCH 60 : Train Loss = 1.5615, Train Acc = 0.5105 , Test Acc = 0.5320\n",
      "EPOCH 70 : Train Loss = 1.5592, Train Acc = 0.5105 , Test Acc = 0.5320\n",
      "FINAL: Train Loss = 1.5590, Train Acc = 0.5105 , Test Acc = 0.5320\n"
     ]
    }
   ],
   "source": [
    "# Define model, optimizer, and scheduler\n",
    "device = torch.device('cuda' if torch.cuda.is_available() else 'cpu')\n",
    "model = GATGraph(\n",
    "    in_channels=num_node_features,\n",
    "    hidden_channels=32,\n",
    "    out_channels=num_classes,\n",
    "    heads = 2,\n",
    "    layers= 3\n",
    ").to(device)\n",
    "optimizer = torch.optim.Adam(model.parameters(), lr=0.001, weight_decay=5e-4)\n",
    "scheduler = ReduceLROnPlateau(optimizer, mode='min', factor=0.5, patience=5)\n",
    "print('Starting training')\n",
    "\n",
    "# Training model, print final results\n",
    "for epoch in range(80):\n",
    "    train_loss = longrange_train(model, train_loader, optimizer, device)\n",
    "    train_acc = longrange_test(model, train_loader, device)\n",
    "    test_acc = longrange_test(model, test_loader, device)\n",
    "    if epoch % 10 == 0:\n",
    "        print(f\"EPOCH {epoch} : Train Loss = {train_loss:.4f}, Train Acc = {train_acc:.4f} , Test Acc = {test_acc:.4f}\")\n",
    "    scheduler.step(train_loss)\n",
    "    \n",
    "print(f\"FINAL: Train Loss = {train_loss:.4f}, Train Acc = {train_acc:.4f} , Test Acc = {test_acc:.4f}\")"
   ]
  },
  {
   "cell_type": "code",
   "execution_count": null,
   "metadata": {},
   "outputs": [],
   "source": []
  }
 ],
 "metadata": {
  "kernelspec": {
   "display_name": "dsc180",
   "language": "python",
   "name": "python3"
  },
  "language_info": {
   "codemirror_mode": {
    "name": "ipython",
    "version": 3
   },
   "file_extension": ".py",
   "mimetype": "text/x-python",
   "name": "python",
   "nbconvert_exporter": "python",
   "pygments_lexer": "ipython3",
   "version": "3.12.7"
  }
 },
 "nbformat": 4,
 "nbformat_minor": 4
}
