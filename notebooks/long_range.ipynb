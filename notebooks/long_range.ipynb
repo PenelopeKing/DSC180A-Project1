{
 "cells": [
  {
   "cell_type": "code",
   "execution_count": 1,
   "metadata": {},
   "outputs": [
    {
     "name": "stderr",
     "output_type": "stream",
     "text": [
      "/opt/anaconda3/envs/dsc180/lib/python3.12/site-packages/tqdm/auto.py:21: TqdmWarning: IProgress not found. Please update jupyter and ipywidgets. See https://ipywidgets.readthedocs.io/en/stable/user_install.html\n",
      "  from .autonotebook import tqdm as notebook_tqdm\n"
     ]
    }
   ],
   "source": [
    "import sys\n",
    "import os\n",
    "import random\n",
    "\n",
    "# Add the absolute path to the src directory \n",
    "os.chdir('../src')\n",
    "src_path = os.path.abspath('../src/')\n",
    "sys.path.insert(0, src_path)\n",
    "\n",
    "from setup import *\n",
    "seed = 123\n",
    "import random\n",
    "torch.manual_seed(seed)\n",
    "random.seed(seed)\n",
    "np.random.seed(seed)"
   ]
  },
  {
   "cell_type": "markdown",
   "metadata": {},
   "source": [
    "All working on Pepties Func dataset"
   ]
  },
  {
   "cell_type": "code",
   "execution_count": 2,
   "metadata": {},
   "outputs": [
    {
     "name": "stdout",
     "output_type": "stream",
     "text": [
      "Loaded and split data\n",
      "Data done loading\n"
     ]
    }
   ],
   "source": [
    "# load the data\n",
    "mp.set_start_method('spawn', force=True)\n",
    "# Load entire Peptides-func dataset\n",
    "train_loader, test_loader, num_classes = load_peptides_func(parallel=True, subset_ratio=1.0)\n",
    "print('Data done loading')\n",
    "num_node_features = 9 "
   ]
  },
  {
   "cell_type": "markdown",
   "metadata": {},
   "source": [
    "# GPS"
   ]
  },
  {
   "cell_type": "code",
   "execution_count": 3,
   "metadata": {},
   "outputs": [
    {
     "name": "stdout",
     "output_type": "stream",
     "text": [
      "Starting training\n",
      "EPOCH 0 : Train Loss = 1.5592, Train Acc = 0.5105 , Test Acc = 0.5320\n",
      "EPOCH 10 : Train Loss = 1.3358, Train Acc = 0.5801 , Test Acc = 0.5894\n",
      "EPOCH 20 : Train Loss = 1.2685, Train Acc = 0.6043 , Test Acc = 0.6221\n",
      "EPOCH 30 : Train Loss = 1.2119, Train Acc = 0.6234 , Test Acc = 0.6414\n",
      "EPOCH 40 : Train Loss = 1.2068, Train Acc = 0.6182 , Test Acc = 0.6221\n",
      "EPOCH 50 : Train Loss = 1.1773, Train Acc = 0.6108 , Test Acc = 0.6285\n",
      "EPOCH 60 : Train Loss = 1.1706, Train Acc = 0.6181 , Test Acc = 0.6244\n",
      "EPOCH 70 : Train Loss = 1.1469, Train Acc = 0.6370 , Test Acc = 0.6497\n",
      "EPOCH 80 : Train Loss = 1.1208, Train Acc = 0.6428 , Test Acc = 0.6418\n",
      "EPOCH 90 : Train Loss = 1.1159, Train Acc = 0.6482 , Test Acc = 0.6464\n",
      "EPOCH 100 : Train Loss = 1.1106, Train Acc = 0.6460 , Test Acc = 0.6506\n",
      "EPOCH 110 : Train Loss = 1.1034, Train Acc = 0.6556 , Test Acc = 0.6524\n",
      "EPOCH 120 : Train Loss = 1.0986, Train Acc = 0.6535 , Test Acc = 0.6561\n",
      "EPOCH 130 : Train Loss = 1.0903, Train Acc = 0.6574 , Test Acc = 0.6533\n",
      "EPOCH 140 : Train Loss = 1.0853, Train Acc = 0.6518 , Test Acc = 0.6524\n",
      "EPOCH 150 : Train Loss = 1.0851, Train Acc = 0.6565 , Test Acc = 0.6589\n",
      "EPOCH 160 : Train Loss = 1.0821, Train Acc = 0.6538 , Test Acc = 0.6579\n",
      "EPOCH 170 : Train Loss = 1.0813, Train Acc = 0.6554 , Test Acc = 0.6611\n",
      "EPOCH 180 : Train Loss = 1.0805, Train Acc = 0.6553 , Test Acc = 0.6589\n",
      "EPOCH 190 : Train Loss = 1.0800, Train Acc = 0.6566 , Test Acc = 0.6602\n",
      "FINAL: Train Loss = 1.0799, Train Acc = 0.6560 , Test Acc = 0.6616\n"
     ]
    }
   ],
   "source": [
    "# Define model, optimizer, and scheduler\n",
    "device = torch.device('cuda' if torch.cuda.is_available() else 'cpu')\n",
    "model = GPSLongRange(\n",
    "    num_node_features=num_node_features,\n",
    "    hidden_channels=32,\n",
    "    num_classes=num_classes,\n",
    "    num_layers=5\n",
    ").to(device)\n",
    "optimizer = torch.optim.Adam(model.parameters(), lr=0.01, weight_decay=5e-4)\n",
    "scheduler = ReduceLROnPlateau(optimizer, mode='min', factor=0.5, patience=5)\n",
    "print('Starting training')\n",
    "\n",
    "# Training model, print final results\n",
    "for epoch in range(200):\n",
    "    train_loss = longrange_train(model, train_loader, optimizer, device)\n",
    "    train_acc = longrange_test(model, train_loader, device)\n",
    "    test_acc = longrange_test(model, test_loader, device)\n",
    "    if epoch % 10 == 0:\n",
    "        print(f\"EPOCH {epoch} : Train Loss = {train_loss:.4f}, Train Acc = {train_acc:.4f} , Test Acc = {test_acc:.4f}\")\n",
    "        \n",
    "    scheduler.step(train_loss)\n",
    "print(f\"FINAL: Train Loss = {train_loss:.4f}, Train Acc = {train_acc:.4f} , Test Acc = {test_acc:.4f}\")"
   ]
  },
  {
   "cell_type": "markdown",
   "metadata": {},
   "source": [
    "# GCN"
   ]
  },
  {
   "cell_type": "code",
   "execution_count": 3,
   "metadata": {},
   "outputs": [
    {
     "name": "stdout",
     "output_type": "stream",
     "text": [
      "Starting training\n",
      "EPOCH 0 : Train Loss = 1.6067, Train Acc = 0.5105 , Test Acc = 0.5320\n",
      "EPOCH 10 : Train Loss = 1.3901, Train Acc = 0.5430 , Test Acc = 0.5660\n",
      "EPOCH 20 : Train Loss = 1.3710, Train Acc = 0.5499 , Test Acc = 0.5710\n",
      "EPOCH 30 : Train Loss = 1.3447, Train Acc = 0.5752 , Test Acc = 0.6000\n",
      "EPOCH 40 : Train Loss = 1.3326, Train Acc = 0.5861 , Test Acc = 0.6083\n",
      "EPOCH 50 : Train Loss = 1.3273, Train Acc = 0.5623 , Test Acc = 0.5802\n",
      "EPOCH 60 : Train Loss = 1.3092, Train Acc = 0.6021 , Test Acc = 0.6133\n",
      "EPOCH 70 : Train Loss = 1.2992, Train Acc = 0.6008 , Test Acc = 0.6189\n",
      "EPOCH 80 : Train Loss = 1.2903, Train Acc = 0.5994 , Test Acc = 0.6179\n",
      "EPOCH 90 : Train Loss = 1.2939, Train Acc = 0.5974 , Test Acc = 0.6133\n",
      "EPOCH 100 : Train Loss = 1.2877, Train Acc = 0.6021 , Test Acc = 0.6193\n",
      "EPOCH 110 : Train Loss = 1.2905, Train Acc = 0.6030 , Test Acc = 0.6221\n",
      "EPOCH 120 : Train Loss = 1.2902, Train Acc = 0.6028 , Test Acc = 0.6216\n",
      "EPOCH 130 : Train Loss = 1.2948, Train Acc = 0.6028 , Test Acc = 0.6216\n",
      "EPOCH 140 : Train Loss = 1.2941, Train Acc = 0.6026 , Test Acc = 0.6216\n",
      "FINAL: Train Loss = 1.2927, Train Acc = 0.6026 , Test Acc = 0.6216\n"
     ]
    }
   ],
   "source": [
    "# Define model, optimizer, and scheduler\n",
    "device = torch.device('cuda' if torch.cuda.is_available() else 'cpu')\n",
    "model = GCNGraph(\n",
    "    num_node_features=num_node_features,\n",
    "    hidden_channels=32,\n",
    "    num_classes=num_classes,\n",
    "    layers=3\n",
    ").to(device)\n",
    "optimizer = torch.optim.Adam(model.parameters(), lr=0.01, weight_decay=5e-4)\n",
    "scheduler = ReduceLROnPlateau(optimizer, mode='min', factor=0.5, patience=5)\n",
    "print('Starting training')\n",
    "\n",
    "# Training model, print final results\n",
    "for epoch in range(150):\n",
    "    train_loss = longrange_train(model, train_loader, optimizer, device)\n",
    "    train_acc = longrange_test(model, train_loader, device)\n",
    "    test_acc = longrange_test(model, test_loader, device)\n",
    "    if epoch % 10 == 0:\n",
    "        print(f\"EPOCH {epoch} : Train Loss = {train_loss:.4f}, Train Acc = {train_acc:.4f} , Test Acc = {test_acc:.4f}\")\n",
    "        \n",
    "    scheduler.step(train_loss)\n",
    "print(f\"FINAL: Train Loss = {train_loss:.4f}, Train Acc = {train_acc:.4f} , Test Acc = {test_acc:.4f}\")"
   ]
  },
  {
   "cell_type": "markdown",
   "metadata": {},
   "source": [
    "# GIN"
   ]
  },
  {
   "cell_type": "code",
   "execution_count": null,
   "metadata": {},
   "outputs": [
    {
     "name": "stdout",
     "output_type": "stream",
     "text": [
      "Starting training\n",
      "EPOCH 0 : Train Loss = 1.4145, Train Acc = 0.4736 , Test Acc = 0.4492\n",
      "EPOCH 10 : Train Loss = 1.4369, Train Acc = 0.5624 , Test Acc = 0.5770\n",
      "EPOCH 20 : Train Loss = 1.4345, Train Acc = 0.5530 , Test Acc = 0.5697\n",
      "EPOCH 30 : Train Loss = 1.4328, Train Acc = 0.5530 , Test Acc = 0.5697\n",
      "EPOCH 40 : Train Loss = 1.4319, Train Acc = 0.5462 , Test Acc = 0.5595\n",
      "EPOCH 50 : Train Loss = 1.4325, Train Acc = 0.5530 , Test Acc = 0.5697\n",
      "EPOCH 60 : Train Loss = 1.4327, Train Acc = 0.5538 , Test Acc = 0.5715\n",
      "EPOCH 70 : Train Loss = 1.4309, Train Acc = 0.5525 , Test Acc = 0.5669\n",
      "EPOCH 80 : Train Loss = 1.4298, Train Acc = 0.5493 , Test Acc = 0.5628\n",
      "EPOCH 90 : Train Loss = 1.4322, Train Acc = 0.5525 , Test Acc = 0.5669\n",
      "FINAL: Train Loss = 1.4342, Train Acc = 0.5478 , Test Acc = 0.5614\n"
     ]
    }
   ],
   "source": [
    "# Define model, optimizer, and scheduler\n",
    "device = torch.device('cuda' if torch.cuda.is_available() else 'cpu')\n",
    "model = GINGraph(\n",
    "    in_channels=num_node_features,\n",
    "    hidden_channels=25,\n",
    "   out_channels=num_classes,\n",
    "   num_layers=5\n",
    ").to(device)\n",
    "optimizer = torch.optim.Adam(model.parameters(), lr=0.01, weight_decay=5e-2)\n",
    "scheduler = ReduceLROnPlateau(optimizer, mode='min', factor=0.5, patience=5)\n",
    "print('Starting training')\n",
    "\n",
    "# Training model, print final results\n",
    "for epoch in range(100):\n",
    "    train_loss = longrange_train(model, train_loader, optimizer, device)\n",
    "    train_acc = longrange_test(model, train_loader, device)\n",
    "    test_acc = longrange_test(model, test_loader, device)\n",
    "    if epoch % 10 == 0:\n",
    "        print(f\"EPOCH {epoch} : Train Loss = {train_loss:.4f}, Train Acc = {train_acc:.4f} , Test Acc = {test_acc:.4f}\")\n",
    "    scheduler.step(train_loss)\n",
    "print(f\"FINAL: Train Loss = {train_loss:.4f}, Train Acc = {train_acc:.4f} , Test Acc = {test_acc:.4f}\")"
   ]
  },
  {
   "cell_type": "markdown",
   "metadata": {},
   "source": [
    "# GAT"
   ]
  },
  {
   "cell_type": "code",
   "execution_count": 5,
   "metadata": {},
   "outputs": [
    {
     "name": "stdout",
     "output_type": "stream",
     "text": [
      "Starting training\n",
      "EPOCH 0 : Train Loss = 1.9413, Train Acc = 0.5105 , Test Acc = 0.5320\n",
      "EPOCH 10 : Train Loss = 1.5982, Train Acc = 0.5105 , Test Acc = 0.5320\n",
      "EPOCH 20 : Train Loss = 1.5781, Train Acc = 0.5105 , Test Acc = 0.5320\n",
      "EPOCH 30 : Train Loss = 1.5705, Train Acc = 0.5105 , Test Acc = 0.5320\n",
      "EPOCH 40 : Train Loss = 1.5637, Train Acc = 0.5105 , Test Acc = 0.5320\n",
      "EPOCH 50 : Train Loss = 1.5573, Train Acc = 0.5105 , Test Acc = 0.5320\n",
      "EPOCH 60 : Train Loss = 1.5593, Train Acc = 0.5105 , Test Acc = 0.5320\n",
      "EPOCH 70 : Train Loss = 1.5533, Train Acc = 0.5105 , Test Acc = 0.5320\n",
      "EPOCH 80 : Train Loss = 1.5509, Train Acc = 0.5105 , Test Acc = 0.5320\n",
      "EPOCH 90 : Train Loss = 1.5474, Train Acc = 0.5105 , Test Acc = 0.5320\n",
      "EPOCH 100 : Train Loss = 1.5483, Train Acc = 0.5105 , Test Acc = 0.5320\n",
      "EPOCH 110 : Train Loss = 1.5488, Train Acc = 0.5105 , Test Acc = 0.5320\n",
      "EPOCH 120 : Train Loss = 1.5425, Train Acc = 0.5105 , Test Acc = 0.5320\n",
      "EPOCH 130 : Train Loss = 1.5435, Train Acc = 0.5105 , Test Acc = 0.5320\n",
      "EPOCH 140 : Train Loss = 1.5464, Train Acc = 0.5105 , Test Acc = 0.5320\n",
      "FINAL: Train Loss = 1.5487, Train Acc = 0.5105 , Test Acc = 0.5320\n"
     ]
    }
   ],
   "source": [
    "# Define model, optimizer, and scheduler\n",
    "device = torch.device('cuda' if torch.cuda.is_available() else 'cpu')\n",
    "model = GATGraph(\n",
    "    in_channels=num_node_features,\n",
    "    hidden_channels=32,\n",
    "    out_channels=num_classes,\n",
    "    heads = 2,\n",
    "    layers= 3\n",
    ").to(device)\n",
    "optimizer = torch.optim.Adam(model.parameters(), lr=0.001, weight_decay=5e-4)\n",
    "scheduler = ReduceLROnPlateau(optimizer, mode='min', factor=0.5, patience=5)\n",
    "print('Starting training')\n",
    "\n",
    "# Training model, print final results\n",
    "for epoch in range(150):\n",
    "    train_loss = longrange_train(model, train_loader, optimizer, device)\n",
    "    train_acc = longrange_test(model, train_loader, device)\n",
    "    test_acc = longrange_test(model, test_loader, device)\n",
    "    if epoch % 10 == 0:\n",
    "        print(f\"EPOCH {epoch} : Train Loss = {train_loss:.4f}, Train Acc = {train_acc:.4f} , Test Acc = {test_acc:.4f}\")\n",
    "    scheduler.step(train_loss)\n",
    "    \n",
    "print(f\"FINAL: Train Loss = {train_loss:.4f}, Train Acc = {train_acc:.4f} , Test Acc = {test_acc:.4f}\")"
   ]
  },
  {
   "cell_type": "code",
   "execution_count": null,
   "metadata": {},
   "outputs": [],
   "source": []
  }
 ],
 "metadata": {
  "kernelspec": {
   "display_name": "dsc180",
   "language": "python",
   "name": "python3"
  },
  "language_info": {
   "codemirror_mode": {
    "name": "ipython",
    "version": 3
   },
   "file_extension": ".py",
   "mimetype": "text/x-python",
   "name": "python",
   "nbconvert_exporter": "python",
   "pygments_lexer": "ipython3",
   "version": "3.12.7"
  }
 },
 "nbformat": 4,
 "nbformat_minor": 4
}
