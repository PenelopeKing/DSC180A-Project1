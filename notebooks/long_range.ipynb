{
 "cells": [
  {
   "cell_type": "code",
   "execution_count": null,
   "metadata": {},
   "outputs": [],
   "source": [
    "import sys\n",
    "import os\n",
    "import random\n",
    "\n",
    "# Add the absolute path to the src directory \n",
    "os.chdir('../src')\n",
    "src_path = os.path.abspath('../src/')\n",
    "sys.path.insert(0, src_path)\n",
    "\n",
    "from setup import *\n",
    "seed = 123\n",
    "import random\n",
    "torch.manual_seed(seed)\n",
    "random.seed(seed)\n",
    "np.random.seed(seed)"
   ]
  },
  {
   "cell_type": "markdown",
   "metadata": {},
   "source": [
    "# GPS - Peptides Func"
   ]
  },
  {
   "cell_type": "code",
   "execution_count": null,
   "metadata": {},
   "outputs": [],
   "source": [
    "mp.set_start_method('spawn', force=True)\n",
    "\n",
    "# Load entire Peptides-func dataset\n",
    "train_loader, test_loader, num_classes = load_peptides_func(parallel=True, subset_ratio=1.0)\n",
    "print('Data done loading')\n",
    "num_node_features = 9 \n",
    "\n",
    "# Define model, optimizer, and scheduler\n",
    "device = torch.device('cuda' if torch.cuda.is_available() else 'cpu')\n",
    "model = GPSLongRange(\n",
    "    num_node_features=num_node_features,\n",
    "    hidden_channels=128,\n",
    "    num_classes=num_classes,\n",
    "    num_layers=3\n",
    ").to(device)\n",
    "optimizer = torch.optim.Adam(model.parameters(), lr=0.01, weight_decay=5e-4)\n",
    "scheduler = ReduceLROnPlateau(optimizer, mode='min', factor=0.5, patience=5)\n",
    "print('Starting training')\n",
    "\n",
    "# Training model, print final results\n",
    "for epoch in range(50):\n",
    "    train_loss = gps_longrange_train(model, train_loader, optimizer, device)\n",
    "    train_acc = gps_longrange_test(model, train_loader, device)\n",
    "    test_acc = gps_longrange_test(model, test_loader, device)\n",
    "    if epoch % 10 == 0:\n",
    "        print(f\"EPOCH {epoch} : Train Loss = {train_loss:.4f}, Train Acc = {train_acc:.4f} , Test Acc = {test_acc:.4f}\")\n",
    "        \n",
    "    scheduler.step(train_loss)\n",
    "print(f\"FINAL: Train Loss = {train_loss:.4f}, Train Acc = {train_acc:.4f} , Test Acc = {test_acc:.4f}\")"
   ]
  }
 ],
 "metadata": {
  "kernelspec": {
   "display_name": "dsc180",
   "language": "python",
   "name": "python3"
  },
  "language_info": {
   "codemirror_mode": {
    "name": "ipython",
    "version": 3
   },
   "file_extension": ".py",
   "mimetype": "text/x-python",
   "name": "python",
   "nbconvert_exporter": "python",
   "pygments_lexer": "ipython3",
   "version": "3.12.7"
  }
 },
 "nbformat": 4,
 "nbformat_minor": 2
}
