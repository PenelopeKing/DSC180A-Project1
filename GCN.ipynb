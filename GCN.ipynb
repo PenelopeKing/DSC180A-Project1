{
 "cells": [
  {
   "cell_type": "markdown",
   "metadata": {},
   "source": [
    "# GCN\n",
    "GCN Benchmarks\n",
    "* GCNNode for node classifcation\n",
    "* GCNGraph for graph classifcation"
   ]
  },
  {
   "cell_type": "markdown",
   "metadata": {},
   "source": [
    "#### Set up"
   ]
  },
  {
   "cell_type": "code",
   "execution_count": 1,
   "metadata": {},
   "outputs": [],
   "source": [
    "from setup import *"
   ]
  },
  {
   "cell_type": "code",
   "execution_count": 2,
   "metadata": {},
   "outputs": [],
   "source": [
    "# import 3 datasets\n",
    "imdb_dataset, cora_dataset, enzyme_dataset = load_data()\n",
    "\n",
    "# global variables\n",
    "EPOCHS = 200 # number of epochs to run while training"
   ]
  },
  {
   "cell_type": "markdown",
   "metadata": {},
   "source": [
    "## Node classifcation: CORA"
   ]
  },
  {
   "cell_type": "code",
   "execution_count": 3,
   "metadata": {},
   "outputs": [
    {
     "name": "stdout",
     "output_type": "stream",
     "text": [
      "CORA Test Acc: 0.8040\n",
      "CORA Train Acc: 1.0000\n"
     ]
    }
   ],
   "source": [
    "# init model and optimizer\n",
    "hidden_channels = 32\n",
    "layers = 2\n",
    "cora_mdl = GCNNode(cora_dataset.num_features, \n",
    "                       hidden_channels, cora_dataset.num_classes, \n",
    "                       num_layers= layers)\n",
    "optimizer = torch.optim.Adam(cora_mdl.parameters(), lr=0.01, weight_decay=5e-4)\n",
    "\n",
    "# train model\n",
    "for _ in range(EPOCHS):\n",
    "    cora_mdl = node_train(model = cora_mdl, data = cora_dataset, optimizer=optimizer)\n",
    "\n",
    "# calculate accuracy\n",
    "cora_test_acc, cora_train_acc, pred = node_test(cora_mdl, cora_dataset)\n",
    "print(f'CORA Test Acc: {cora_test_acc:.4f}')\n",
    "print(f'CORA Train Acc: {cora_train_acc:.4f}')"
   ]
  },
  {
   "cell_type": "markdown",
   "metadata": {},
   "source": [
    "## Graph classifcation: IMDB"
   ]
  },
  {
   "cell_type": "code",
   "execution_count": 4,
   "metadata": {},
   "outputs": [],
   "source": [
    "# set up dataset - split into train/test\n",
    "train_loader, test_loader = preprocess_data(imdb_dataset, onehot=True, batch_size=64)"
   ]
  },
  {
   "cell_type": "code",
   "execution_count": 5,
   "metadata": {},
   "outputs": [
    {
     "name": "stdout",
     "output_type": "stream",
     "text": [
      "Final TEST Accuracy on ENZYME: 0.7300\n",
      "Final TRAIN Accuracy on ENZYME: 0.8838\n"
     ]
    }
   ],
   "source": [
    "# train model\n",
    "imdb_mdl = GCNGraph(hidden_channels=64, dataset = imdb_dataset, layers = 2)\n",
    "optimizer = torch.optim.Adam(imdb_mdl.parameters(), lr=0.01)\n",
    "criterion = torch.nn.CrossEntropyLoss()\n",
    "\n",
    "for epoch in range(EPOCHS):\n",
    "    graph_train(imdb_mdl, train_loader, optimizer, criterion)\n",
    "    \n",
    "test_acc, train_acc = graph_test(imdb_mdl, test_loader, train_loader)\n",
    "print(f\"Final TEST Accuracy on ENZYME: {test_acc:.4f}\")\n",
    "print(f\"Final TRAIN Accuracy on ENZYME: {train_acc:.4f}\")"
   ]
  },
  {
   "cell_type": "markdown",
   "metadata": {},
   "source": [
    "## Graph classification: ENZYME"
   ]
  },
  {
   "cell_type": "code",
   "execution_count": 6,
   "metadata": {},
   "outputs": [],
   "source": [
    "# set up dataset - split train/test data loaders\n",
    "train_loader, test_loader = preprocess_data(enzyme_dataset, onehot=False, batch_size=64)"
   ]
  },
  {
   "cell_type": "code",
   "execution_count": 7,
   "metadata": {},
   "outputs": [
    {
     "name": "stdout",
     "output_type": "stream",
     "text": [
      "Final TEST Accuracy on ENZYME: 0.3250\n",
      "Final TRAIN Accuracy on ENZYME: 0.2979\n"
     ]
    }
   ],
   "source": [
    "# train model\n",
    "hidden_channels = 32\n",
    "enzyme_mdl = GCNGraph(hidden_channels = hidden_channels, dataset = enzyme_dataset, layers = 2)\n",
    "optimizer = torch.optim.Adam(enzyme_mdl.parameters(), lr=0.01)\n",
    "#criterion = torch.nn.CrossEntropyLoss()\n",
    "\n",
    "for epoch in range(EPOCHS):\n",
    "    graph_train(enzyme_mdl, train_loader, optimizer, criterion)\n",
    "\n",
    "test_acc, train_acc = graph_test(enzyme_mdl, test_loader, train_loader)\n",
    "print(f\"Final TEST Accuracy on ENZYME: {test_acc:.4f}\")\n",
    "print(f\"Final TRAIN Accuracy on ENZYME: {train_acc:.4f}\")"
   ]
  },
  {
   "cell_type": "code",
   "execution_count": null,
   "metadata": {},
   "outputs": [],
   "source": []
  }
 ],
 "metadata": {
  "kernelspec": {
   "display_name": "dsc180",
   "language": "python",
   "name": "python3"
  },
  "language_info": {
   "codemirror_mode": {
    "name": "ipython",
    "version": 3
   },
   "file_extension": ".py",
   "mimetype": "text/x-python",
   "name": "python",
   "nbconvert_exporter": "python",
   "pygments_lexer": "ipython3",
   "version": "3.12.7"
  }
 },
 "nbformat": 4,
 "nbformat_minor": 2
}
